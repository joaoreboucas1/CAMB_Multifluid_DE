{
 "cells": [
  {
   "cell_type": "markdown",
   "id": "7dbf5e23-d0ba-4cee-bada-ba327b2b845d",
   "metadata": {},
   "source": [
    "# Finding bad points\n",
    "Our chains are crashing in some points because of segmentation fault. I want to identify possible bad points.\n",
    "\n",
    "I opened the file `ownCloud/Jonathan/chauins/fluid_act/w0wa_n3/fluid_act_w0wa_n3_777632.err`.The last lines say\n",
    "\n",
    "> `mpirun noticed that process rank 3 with PID 30920 on node sn034 exited on signal 11 (Segmentation fault)`\n",
    "\n",
    "I then opened `ownCloud/Jonathan/chauins/fluid_act/w0wa_n3/fluid_act_w0wa_n3.4.txt`, which is the chain related to MPI process rank 3. The last recorded point in the MCMC is:"
   ]
  },
  {
   "cell_type": "code",
   "execution_count": 1,
   "id": "f4e66fef-7a6d-40f7-831c-654333a9fa81",
   "metadata": {},
   "outputs": [],
   "source": [
    "quantities = \"weight    minuslogpost          fde_zc         log10zc         theta_i              w0      w0_plus_wa             yp2            logA              ns    theta_MC_100        omegabh2        omegach2             tau        A_planck      calib_100T      calib_217T       A_cib_217       xi_sz_cib            A_sz        ksz_norm    gal545_A_100    gal545_A_143 gal545_A_143_217    gal545_A_217    ps_A_100_100    ps_A_143_143    ps_A_143_217    ps_A_217_217              zc              As              H0          omegal          omegam        omegamh2          omegab          omegac          sigma8            s8h5      s8omegamp5     s8omegamp25               A           clamp             age           rdrag         yheused          omegan         omegan2       chi2__CMB   minuslogprior minuslogprior__0 minuslogprior__SZ            chi2 chi2__planck_2018_lowl.EE chi2__planck_2018_lowl.TT chi2__planck_2018_highl_plik.TT chi2__pyactlike.ACTPol_lite_DR4\".split()\n",
    "last_recorded_values = [float(x) for x in \"1        504.7772     0.065492317       3.4892557       1.5434951       -2.112149      -2.4433626       1.0021302       3.0604628      0.98435725       1.0410783     0.021796498      0.12943786     0.056191636       1.0002054       1.0002271      0.99711111       28.295482      0.35050481       6.1229948      0.81191224       11.870592       8.8749365          18.7904       95.729357       178.15512       40.005396       35.846974       232.48843       3085.0036   2.1337429e-09       73.828609      0.72128967      0.27864404      0.15187949     0.039988705      0.23747174      0.86006897       1.0009697      0.45400241       0.6248787       2.1337429       1.9069296        13.17844       142.25522      0.24513867    0.0011835961    0.0006451384       672.98966       32.049014        29.963173         2.0858411       945.45637                 396.47508                 21.071161                       255.44341                       272.46671\".split()]\n",
    "last_recorded_point = {}\n",
    "for key, value in zip(quantities, last_recorded_values):\n",
    "    last_recorded_point[key] = value"
   ]
  },
  {
   "cell_type": "code",
   "execution_count": 2,
   "id": "82f41d0b-c72b-4f99-9960-147679530f91",
   "metadata": {},
   "outputs": [
    {
     "name": "stdout",
     "output_type": "stream",
     "text": [
      "Last recorded point:\n",
      "log10zc: 3.4892557\n",
      "fde_zc: 0.065492317\n",
      "theta_i: 1.5434951\n",
      "w0: -2.112149\n",
      "w0_plus_wa: -2.4433626\n",
      "theta_MC_100: 1.0410783\n",
      "omegabh2: 0.021796498\n",
      "omegach2: 0.12943786\n",
      "logA: 3.0604628\n",
      "ns: 0.98435725\n",
      "tau: 0.056191636\n"
     ]
    }
   ],
   "source": [
    "print('Last recorded point:')\n",
    "for key in ['log10zc', 'fde_zc', 'theta_i', 'w0', 'w0_plus_wa', 'theta_MC_100', 'omegabh2', 'omegach2', 'logA', 'ns', 'tau']:\n",
    "    print(key+':', last_recorded_point[key])"
   ]
  },
  {
   "cell_type": "markdown",
   "id": "0beb3584-1fc2-405a-999a-031c4ede7c93",
   "metadata": {},
   "source": [
    "Let's try to run this specific point:"
   ]
  },
  {
   "cell_type": "code",
   "execution_count": 1,
   "id": "bac3662d-a62e-4cd5-91f9-0bf57c03f21c",
   "metadata": {},
   "outputs": [
    {
     "name": "stdout",
     "output_type": "stream",
     "text": [
      "Using CAMB 1.3.5 installed at /home/joaov/cosmo/CAMB/CAMBMultiFluidDE/camb\n"
     ]
    }
   ],
   "source": [
    "import numpy as np\n",
    "%matplotlib inline\n",
    "import matplotlib\n",
    "import matplotlib.pyplot as plt\n",
    "import os, sys\n",
    "import camb\n",
    "\n",
    "# If you have many CAMB versions at your disposal, it's always useful to check which CAMB is being used.\n",
    "print('Using CAMB %s installed at %s'%(camb.__version__,os.path.dirname(camb.__file__)))"
   ]
  },
  {
   "cell_type": "code",
   "execution_count": 4,
   "id": "5a97cc3d-4c5a-4de8-9dfd-f83e315ec360",
   "metadata": {},
   "outputs": [],
   "source": [
    "last_zc = 10**last_recorded_point['log10zc']\n",
    "last_theta_i = last_recorded_point['theta_i']\n",
    "last_fde_zc = last_recorded_point['fde_zc']\n",
    "last_ns = last_recorded_point['ns']\n",
    "last_w0 = last_recorded_point['w0']\n",
    "last_wa = last_recorded_point['w0_plus_wa'] - last_w0\n",
    "last_As = 1e-10*np.exp(last_recorded_point['logA'])\n",
    "last_cosmomc_theta = 1e-2*last_recorded_point['theta_MC_100']\n",
    "last_omegach2 = last_recorded_point['omegach2']\n",
    "last_omegabh2 = last_recorded_point['omegabh2']\n",
    "last_tau = last_recorded_point['tau']"
   ]
  },
  {
   "cell_type": "code",
   "execution_count": 14,
   "id": "b50b335c-df16-4bc5-8891-f602ef3f2ab1",
   "metadata": {},
   "outputs": [],
   "source": [
    "cosmo1 = camb.set_params(# Background\n",
    "                        cosmomc_theta = last_cosmomc_theta, ombh2=last_omegabh2, omch2=last_omegach2,\n",
    "                        # Dark Energy Model\n",
    "                        dark_energy_model = 'MultiFluidDE',\n",
    "                        num_of_components = 2, models = [2,1,0,0],\n",
    "                        w0 = -1, wa = last_wa, zc = last_zc, fde_zc = last_fde_zc, wn = 1/2, theta_i = last_theta_i,\n",
    "                        # Initial Power Spectrum\n",
    "                        As = last_As, ns = last_ns, AccuracyBoost=1.05, tau = last_tau,\n",
    "                        YHe = 0.246, WantTransfer=False, max_l = 10000)\n",
    "results = camb.get_results(cosmo1)"
   ]
  },
  {
   "cell_type": "code",
   "execution_count": 15,
   "id": "01cce376-f2cb-44fd-ab1c-b411c9c8f9ed",
   "metadata": {},
   "outputs": [
    {
     "name": "stdout",
     "output_type": "stream",
     "text": [
      "73.8286137421238\n"
     ]
    }
   ],
   "source": [
    "print(results.Params.H0)"
   ]
  },
  {
   "cell_type": "markdown",
   "id": "acabfca7-6da2-494d-a8d1-2a005cddfd45",
   "metadata": {},
   "source": [
    "We found an error! It seems this cosmology cannot realize $\\theta_\\star = 0.0104$ for $H_0 \\in [10, 100]$. Let's confirm this:"
   ]
  },
  {
   "cell_type": "code",
   "execution_count": 13,
   "id": "f9fd1b70-1410-4153-b789-8323faa5aa20",
   "metadata": {},
   "outputs": [
    {
     "name": "stdout",
     "output_type": "stream",
     "text": [
      "thetastar (H0 = 10): 0.8764759690006244\n",
      "thetastar (H0 = 100): 1.0236780736885875\n",
      "target thetastar: 1.0410783\n"
     ]
    }
   ],
   "source": [
    "cosmo1 = camb.set_params(# Background\n",
    "                        H0 = 10, ombh2=last_omegabh2, omch2=last_omegach2,\n",
    "                        # Dark Energy Model\n",
    "                        dark_energy_model = 'MultiFluidDE',\n",
    "                        num_of_components = 2, models = [2,1,0,0],\n",
    "                        w0 = last_w0, wa = last_wa, zc = last_zc, fde_zc = last_fde_zc, wn = 1/2, theta_i = last_theta_i,\n",
    "                        # Initial Power Spectrum\n",
    "                        As = last_As, ns = last_ns, AccuracyBoost=1.05, tau = last_tau,\n",
    "                        YHe = 0.246, WantTransfer=False, max_l = 10000)\n",
    "results = camb.get_results(cosmo1)\n",
    "print('thetastar (H0 = 10):', results.get_derived_params()['thetastar'])\n",
    "cosmo1 = camb.set_params(# Background\n",
    "                        H0 = 100, ombh2=last_omegabh2, omch2=last_omegach2,\n",
    "                        # Dark Energy Model\n",
    "                        dark_energy_model = 'MultiFluidDE',\n",
    "                        num_of_components = 2, models = [2,1,0,0],\n",
    "                        w0 = last_w0, wa = last_wa, zc = last_zc, fde_zc = last_fde_zc, wn = 1/2, theta_i = last_theta_i,\n",
    "                        # Initial Power Spectrum\n",
    "                        As = last_As, ns = last_ns, AccuracyBoost=1.05, tau = last_tau,\n",
    "                        YHe = 0.246, WantTransfer=False, max_l = 10000)\n",
    "results = camb.get_results(cosmo1)\n",
    "print('thetastar (H0 = 100):', results.get_derived_params()['thetastar'])\n",
    "print('target thetastar:', 100*last_cosmomc_theta)"
   ]
  },
  {
   "cell_type": "markdown",
   "id": "73d2a31b-616a-4509-8142-8a66028e066a",
   "metadata": {},
   "source": [
    "Let's try another point:"
   ]
  },
  {
   "cell_type": "code",
   "execution_count": 127,
   "id": "62a46544-180b-4bde-9ddf-eceff7577a02",
   "metadata": {},
   "outputs": [],
   "source": [
    "working_values = [float(x) for x in \"1       580.69389     0.036834281       3.7460373       1.0439346      -1.0272194      -1.0189491       1.0102036       3.0574109      0.97533921       1.0404165     0.022367554       0.1183387      0.06335949       1.0042431      0.99953932      0.99778482       68.246693      0.17393552       6.1650687       3.3390472       7.9023194       11.632269        24.689393       72.679448       270.17745       55.566685       20.157716        119.0703       5572.3361    2.127241e-09       71.811123      0.72582513      0.27410481      0.14135139     0.043374558      0.22947921      0.79964664      0.94363113      0.41865516      0.57859847        2.127241       1.8740593       13.451314       145.82033       0.2453979     0.001251035    0.0006451384       760.22338       32.448868        29.669463         2.7794048         1096.49                 398.18401                 22.135411                       339.90396                       336.26665\".split()]\n",
    "working_point = {}\n",
    "for key, value in zip(quantities, working_values):\n",
    "    working_point[key] = value"
   ]
  },
  {
   "cell_type": "code",
   "execution_count": 128,
   "id": "71c357bc-441f-41bc-a5d1-d7f2510301b9",
   "metadata": {},
   "outputs": [],
   "source": [
    "working_zc = 10**working_point['log10zc']\n",
    "working_theta_i = working_point['theta_i']\n",
    "working_fde_zc = working_point['fde_zc']\n",
    "working_ns = working_point['ns']\n",
    "working_w0 = working_point['w0']\n",
    "working_wa = working_point['w0_plus_wa'] - working_w0\n",
    "working_As = 1e-10*np.exp(working_point['logA'])\n",
    "working_cosmomc_theta = 1e-2*working_point['theta_MC_100']\n",
    "working_omegach2 = working_point['omegach2']\n",
    "working_omegabh2 = working_point['omegabh2']\n",
    "working_tau = working_point['tau']"
   ]
  },
  {
   "cell_type": "code",
   "execution_count": 131,
   "id": "5bb41311-31d3-456c-8834-773f41df9414",
   "metadata": {},
   "outputs": [],
   "source": [
    "cosmo1 = camb.set_params(# Background\n",
    "                        cosmomc_theta = working_cosmomc_theta, ombh2=working_omegabh2, omch2=working_omegach2,\n",
    "                        # Dark Energy Model\n",
    "                        dark_energy_model = 'MultiFluidDE',\n",
    "                        num_of_components = 2, models = [2,1,0,0],\n",
    "                        w0 = working_w0, wa = working_wa, zc = working_zc, fde_zc = working_fde_zc, wn = 1/2, theta_i = working_theta_i,\n",
    "                        # Initial Power Spectrum\n",
    "                        As = working_As, ns = working_ns, AccuracyBoost=1.05, tau = working_tau,\n",
    "                        YHe = 0.246, WantTransfer=False, max_l = 10000)\n",
    "results = camb.get_results(cosmo1)"
   ]
  },
  {
   "cell_type": "markdown",
   "id": "a39e0cdd-fdc5-49df-9b5d-4650c51b0420",
   "metadata": {},
   "source": [
    "It works. This could be the error! The question is: why is Cobaya not picking the `CAMBParamRangeError`?"
   ]
  },
  {
   "cell_type": "markdown",
   "id": "03172db3-a10d-4993-9189-8f11c18d50eb",
   "metadata": {},
   "source": [
    "For confirmation: let's try another crashed chain. Get the `.err` file, check the rank of the failed chain, get its last recorded point and try to run."
   ]
  },
  {
   "cell_type": "code",
   "execution_count": 158,
   "id": "5e52810c-567d-46b7-9da2-3acd7b43d268",
   "metadata": {
    "tags": []
   },
   "outputs": [],
   "source": [
    "last_recorded_values = [float(x) for x in \"6       506.97957      0.10731111       3.5116178       1.8272322      -2.0301903      -2.2392369       1.0007008       3.0325285      0.99056015       1.0411293     0.022281637      0.13627557      0.03691134       1.0038392      0.99905851      0.99848183       62.633333      0.68560988       6.0048908      0.49533535       8.7498779       10.466653        29.158985       102.42942        250.6759       152.15919        33.10699        95.27413       3248.0134   2.0749631e-09       76.413192      0.72728354      0.27265458      0.15920235      0.03816018      0.23338952      0.84382853      0.96531718      0.44061635      0.60975786       2.0749631       1.9273013       12.761086       138.12513       0.2453632    0.0011048828    0.0006451384        680.0167       31.068774        29.031012         2.0377621        951.8216                 398.85602                 20.644282                        260.5164                       271.80489\".split()]\n",
    "last_recorded_point = {}\n",
    "for key, value in zip(quantities, last_recorded_values):\n",
    "    last_recorded_point[key] = value"
   ]
  },
  {
   "cell_type": "code",
   "execution_count": 159,
   "id": "125e6260-44dc-437c-baae-e18b9494203a",
   "metadata": {
    "tags": []
   },
   "outputs": [],
   "source": [
    "last_zc = 10**last_recorded_point['log10zc']\n",
    "last_theta_i = last_recorded_point['theta_i']\n",
    "last_fde_zc = last_recorded_point['fde_zc']\n",
    "last_ns = last_recorded_point['ns']\n",
    "last_w0 = last_recorded_point['w0']\n",
    "last_wa = last_recorded_point['w0_plus_wa'] - last_w0\n",
    "last_As = 1e-10*np.exp(last_recorded_point['logA'])\n",
    "last_cosmomc_theta = 1e-2*last_recorded_point['theta_MC_100']\n",
    "last_omegach2 = last_recorded_point['omegach2']\n",
    "last_omegabh2 = last_recorded_point['omegabh2']\n",
    "last_tau = last_recorded_point['tau']"
   ]
  },
  {
   "cell_type": "code",
   "execution_count": 160,
   "id": "0c8febca-3acf-463a-b5c1-b1b2866d3f32",
   "metadata": {},
   "outputs": [
    {
     "name": "stdout",
     "output_type": "stream",
     "text": [
      "Last recorded point:\n",
      "log10zc: 3.5116178\n",
      "fde_zc: 0.10731111\n",
      "theta_i: 1.8272322\n",
      "w0: -2.0301903\n",
      "w0_plus_wa: -2.2392369\n",
      "theta_MC_100: 1.0411293\n",
      "omegabh2: 0.022281637\n",
      "omegach2: 0.13627557\n",
      "logA: 3.0325285\n",
      "ns: 0.99056015\n",
      "tau: 0.03691134\n"
     ]
    }
   ],
   "source": [
    "print('Last recorded point:')\n",
    "for key in ['log10zc', 'fde_zc', 'theta_i', 'w0', 'w0_plus_wa', 'theta_MC_100', 'omegabh2', 'omegach2', 'logA', 'ns', 'tau']:\n",
    "    print(key+':', last_recorded_point[key])"
   ]
  },
  {
   "cell_type": "code",
   "execution_count": 161,
   "id": "88d6ab39-91b7-46cc-81fe-5d129aa17f87",
   "metadata": {},
   "outputs": [
    {
     "ename": "CAMBParamRangeError",
     "evalue": "No solution for H0 inside of theta_H0_range",
     "output_type": "error",
     "traceback": [
      "\u001b[0;31m---------------------------------------------------------------------------\u001b[0m",
      "\u001b[0;31mValueError\u001b[0m                                Traceback (most recent call last)",
      "\u001b[0;32m~/cosmo/CAMB/CAMBMultiFluidDE/camb/model.py\u001b[0m in \u001b[0;36mset_H0_for_theta\u001b[0;34m(self, theta, cosmomc_approx, theta_H0_range, est_H0, iteration_threshold)\u001b[0m\n\u001b[1;32m    401\u001b[0m             \u001b[0;31m# noinspection PyTypeChecker\u001b[0m\u001b[0;34m\u001b[0m\u001b[0;34m\u001b[0m\u001b[0;34m\u001b[0m\u001b[0m\n\u001b[0;32m--> 402\u001b[0;31m             \u001b[0mself\u001b[0m\u001b[0;34m.\u001b[0m\u001b[0mH0\u001b[0m\u001b[0;34m:\u001b[0m \u001b[0mfloat\u001b[0m \u001b[0;34m=\u001b[0m \u001b[0mbrentq\u001b[0m\u001b[0;34m(\u001b[0m\u001b[0mf\u001b[0m\u001b[0;34m,\u001b[0m \u001b[0mtheta_H0_range\u001b[0m\u001b[0;34m[\u001b[0m\u001b[0;36m0\u001b[0m\u001b[0;34m]\u001b[0m\u001b[0;34m,\u001b[0m \u001b[0mtheta_H0_range\u001b[0m\u001b[0;34m[\u001b[0m\u001b[0;36m1\u001b[0m\u001b[0;34m]\u001b[0m\u001b[0;34m,\u001b[0m \u001b[0mrtol\u001b[0m\u001b[0;34m=\u001b[0m\u001b[0;36m5e-5\u001b[0m\u001b[0;34m)\u001b[0m\u001b[0;34m\u001b[0m\u001b[0;34m\u001b[0m\u001b[0m\n\u001b[0m\u001b[1;32m    403\u001b[0m             \u001b[0;32mif\u001b[0m \u001b[0;32mnot\u001b[0m \u001b[0mcosmomc_approx\u001b[0m \u001b[0;32mand\u001b[0m \u001b[0mabs\u001b[0m\u001b[0;34m(\u001b[0m\u001b[0mself\u001b[0m\u001b[0;34m.\u001b[0m\u001b[0mH0\u001b[0m \u001b[0;34m-\u001b[0m \u001b[0mest_H0\u001b[0m\u001b[0;34m)\u001b[0m \u001b[0;34m>\u001b[0m \u001b[0miteration_threshold\u001b[0m\u001b[0;34m:\u001b[0m\u001b[0;34m\u001b[0m\u001b[0;34m\u001b[0m\u001b[0m\n",
      "\u001b[0;32m~/anaconda3/lib/python3.8/site-packages/scipy/optimize/zeros.py\u001b[0m in \u001b[0;36mbrentq\u001b[0;34m(f, a, b, args, xtol, rtol, maxiter, full_output, disp)\u001b[0m\n\u001b[1;32m    775\u001b[0m         \u001b[0;32mraise\u001b[0m \u001b[0mValueError\u001b[0m\u001b[0;34m(\u001b[0m\u001b[0;34m\"rtol too small (%g < %g)\"\u001b[0m \u001b[0;34m%\u001b[0m \u001b[0;34m(\u001b[0m\u001b[0mrtol\u001b[0m\u001b[0;34m,\u001b[0m \u001b[0m_rtol\u001b[0m\u001b[0;34m)\u001b[0m\u001b[0;34m)\u001b[0m\u001b[0;34m\u001b[0m\u001b[0;34m\u001b[0m\u001b[0m\n\u001b[0;32m--> 776\u001b[0;31m     \u001b[0mr\u001b[0m \u001b[0;34m=\u001b[0m \u001b[0m_zeros\u001b[0m\u001b[0;34m.\u001b[0m\u001b[0m_brentq\u001b[0m\u001b[0;34m(\u001b[0m\u001b[0mf\u001b[0m\u001b[0;34m,\u001b[0m \u001b[0ma\u001b[0m\u001b[0;34m,\u001b[0m \u001b[0mb\u001b[0m\u001b[0;34m,\u001b[0m \u001b[0mxtol\u001b[0m\u001b[0;34m,\u001b[0m \u001b[0mrtol\u001b[0m\u001b[0;34m,\u001b[0m \u001b[0mmaxiter\u001b[0m\u001b[0;34m,\u001b[0m \u001b[0margs\u001b[0m\u001b[0;34m,\u001b[0m \u001b[0mfull_output\u001b[0m\u001b[0;34m,\u001b[0m \u001b[0mdisp\u001b[0m\u001b[0;34m)\u001b[0m\u001b[0;34m\u001b[0m\u001b[0;34m\u001b[0m\u001b[0m\n\u001b[0m\u001b[1;32m    777\u001b[0m     \u001b[0;32mreturn\u001b[0m \u001b[0mresults_c\u001b[0m\u001b[0;34m(\u001b[0m\u001b[0mfull_output\u001b[0m\u001b[0;34m,\u001b[0m \u001b[0mr\u001b[0m\u001b[0;34m)\u001b[0m\u001b[0;34m\u001b[0m\u001b[0;34m\u001b[0m\u001b[0m\n",
      "\u001b[0;31mValueError\u001b[0m: f(a) and f(b) must have different signs",
      "\nDuring handling of the above exception, another exception occurred:\n",
      "\u001b[0;31mCAMBParamRangeError\u001b[0m                       Traceback (most recent call last)",
      "\u001b[0;32m/tmp/ipykernel_6895/2708305587.py\u001b[0m in \u001b[0;36m<cell line: 1>\u001b[0;34m()\u001b[0m\n\u001b[0;32m----> 1\u001b[0;31m cosmo1 = camb.set_params(# Background\n\u001b[0m\u001b[1;32m      2\u001b[0m                         \u001b[0mcosmomc_theta\u001b[0m \u001b[0;34m=\u001b[0m \u001b[0mlast_cosmomc_theta\u001b[0m\u001b[0;34m,\u001b[0m \u001b[0mombh2\u001b[0m\u001b[0;34m=\u001b[0m\u001b[0mlast_omegabh2\u001b[0m\u001b[0;34m,\u001b[0m \u001b[0momch2\u001b[0m\u001b[0;34m=\u001b[0m\u001b[0mlast_omegach2\u001b[0m\u001b[0;34m,\u001b[0m\u001b[0;34m\u001b[0m\u001b[0;34m\u001b[0m\u001b[0m\n\u001b[1;32m      3\u001b[0m                         \u001b[0;31m# Dark Energy Model\u001b[0m\u001b[0;34m\u001b[0m\u001b[0;34m\u001b[0m\u001b[0;34m\u001b[0m\u001b[0m\n\u001b[1;32m      4\u001b[0m                         \u001b[0mdark_energy_model\u001b[0m \u001b[0;34m=\u001b[0m \u001b[0;34m'MultiFluidDE'\u001b[0m\u001b[0;34m,\u001b[0m\u001b[0;34m\u001b[0m\u001b[0;34m\u001b[0m\u001b[0m\n\u001b[1;32m      5\u001b[0m                         \u001b[0mnum_of_components\u001b[0m \u001b[0;34m=\u001b[0m \u001b[0;36m2\u001b[0m\u001b[0;34m,\u001b[0m \u001b[0mmodels\u001b[0m \u001b[0;34m=\u001b[0m \u001b[0;34m[\u001b[0m\u001b[0;36m2\u001b[0m\u001b[0;34m,\u001b[0m\u001b[0;36m1\u001b[0m\u001b[0;34m,\u001b[0m\u001b[0;36m0\u001b[0m\u001b[0;34m,\u001b[0m\u001b[0;36m0\u001b[0m\u001b[0;34m]\u001b[0m\u001b[0;34m,\u001b[0m\u001b[0;34m\u001b[0m\u001b[0;34m\u001b[0m\u001b[0m\n",
      "\u001b[0;32m~/cosmo/CAMB/CAMBMultiFluidDE/camb/camb.py\u001b[0m in \u001b[0;36mset_params\u001b[0;34m(cp, verbose, **params)\u001b[0m\n\u001b[1;32m    155\u001b[0m     \u001b[0mdo_set\u001b[0m\u001b[0;34m(\u001b[0m\u001b[0mcp\u001b[0m\u001b[0;34m.\u001b[0m\u001b[0mset_classes\u001b[0m\u001b[0;34m)\u001b[0m\u001b[0;34m\u001b[0m\u001b[0;34m\u001b[0m\u001b[0m\n\u001b[1;32m    156\u001b[0m     \u001b[0mdo_set\u001b[0m\u001b[0;34m(\u001b[0m\u001b[0mcp\u001b[0m\u001b[0;34m.\u001b[0m\u001b[0mDarkEnergy\u001b[0m\u001b[0;34m.\u001b[0m\u001b[0mset_params\u001b[0m\u001b[0;34m)\u001b[0m\u001b[0;34m\u001b[0m\u001b[0;34m\u001b[0m\u001b[0m\n\u001b[0;32m--> 157\u001b[0;31m     \u001b[0mdo_set\u001b[0m\u001b[0;34m(\u001b[0m\u001b[0mcp\u001b[0m\u001b[0;34m.\u001b[0m\u001b[0mset_cosmology\u001b[0m\u001b[0;34m)\u001b[0m\u001b[0;34m\u001b[0m\u001b[0;34m\u001b[0m\u001b[0m\n\u001b[0m\u001b[1;32m    158\u001b[0m     \u001b[0mdo_set\u001b[0m\u001b[0;34m(\u001b[0m\u001b[0mcp\u001b[0m\u001b[0;34m.\u001b[0m\u001b[0mset_matter_power\u001b[0m\u001b[0;34m)\u001b[0m\u001b[0;34m\u001b[0m\u001b[0;34m\u001b[0m\u001b[0m\n\u001b[1;32m    159\u001b[0m     \u001b[0mdo_set\u001b[0m\u001b[0;34m(\u001b[0m\u001b[0mcp\u001b[0m\u001b[0;34m.\u001b[0m\u001b[0mset_for_lmax\u001b[0m\u001b[0;34m)\u001b[0m\u001b[0;34m\u001b[0m\u001b[0;34m\u001b[0m\u001b[0m\n",
      "\u001b[0;32m~/cosmo/CAMB/CAMBMultiFluidDE/camb/camb.py\u001b[0m in \u001b[0;36mdo_set\u001b[0;34m(setter)\u001b[0m\n\u001b[1;32m    148\u001b[0m             \u001b[0;32mif\u001b[0m \u001b[0mverbose\u001b[0m\u001b[0;34m:\u001b[0m\u001b[0;34m\u001b[0m\u001b[0;34m\u001b[0m\u001b[0m\n\u001b[1;32m    149\u001b[0m                 \u001b[0mlogging\u001b[0m\u001b[0;34m.\u001b[0m\u001b[0mwarning\u001b[0m\u001b[0;34m(\u001b[0m\u001b[0;34m'Calling %s(**%s)'\u001b[0m \u001b[0;34m%\u001b[0m \u001b[0;34m(\u001b[0m\u001b[0msetter\u001b[0m\u001b[0;34m.\u001b[0m\u001b[0m__name__\u001b[0m\u001b[0;34m,\u001b[0m \u001b[0mkwargs\u001b[0m\u001b[0;34m)\u001b[0m\u001b[0;34m)\u001b[0m\u001b[0;34m\u001b[0m\u001b[0;34m\u001b[0m\u001b[0m\n\u001b[0;32m--> 150\u001b[0;31m             \u001b[0msetter\u001b[0m\u001b[0;34m(\u001b[0m\u001b[0;34m**\u001b[0m\u001b[0mkwargs\u001b[0m\u001b[0;34m)\u001b[0m\u001b[0;34m\u001b[0m\u001b[0;34m\u001b[0m\u001b[0m\n\u001b[0m\u001b[1;32m    151\u001b[0m \u001b[0;34m\u001b[0m\u001b[0m\n\u001b[1;32m    152\u001b[0m     \u001b[0;31m# Note order is important: must call DarkEnergy.set_params before set_cosmology if setting theta rather than H0\u001b[0m\u001b[0;34m\u001b[0m\u001b[0;34m\u001b[0m\u001b[0;34m\u001b[0m\u001b[0m\n",
      "\u001b[0;32m~/cosmo/CAMB/CAMBMultiFluidDE/camb/model.py\u001b[0m in \u001b[0;36mset_cosmology\u001b[0;34m(self, H0, ombh2, omch2, omk, cosmomc_theta, thetastar, neutrino_hierarchy, num_massive_neutrinos, mnu, nnu, YHe, meffsterile, standard_neutrino_neff, TCMB, tau, zrei, deltazrei, Alens, bbn_predictor, theta_H0_range)\u001b[0m\n\u001b[1;32m    510\u001b[0m                 \u001b[0;32mraise\u001b[0m \u001b[0mCAMBError\u001b[0m\u001b[0;34m(\u001b[0m\u001b[0;34m'Cannot set both cosmomc_theta and thetastar'\u001b[0m\u001b[0;34m)\u001b[0m\u001b[0;34m\u001b[0m\u001b[0;34m\u001b[0m\u001b[0m\n\u001b[1;32m    511\u001b[0m \u001b[0;34m\u001b[0m\u001b[0m\n\u001b[0;32m--> 512\u001b[0;31m             self.set_H0_for_theta(cosmomc_theta or thetastar, cosmomc_approx=cosmomc_theta is not None,\n\u001b[0m\u001b[1;32m    513\u001b[0m                                   theta_H0_range=theta_H0_range)\n\u001b[1;32m    514\u001b[0m         \u001b[0;32melse\u001b[0m\u001b[0;34m:\u001b[0m\u001b[0;34m\u001b[0m\u001b[0;34m\u001b[0m\u001b[0m\n",
      "\u001b[0;32m~/cosmo/CAMB/CAMBMultiFluidDE/camb/model.py\u001b[0m in \u001b[0;36mset_H0_for_theta\u001b[0;34m(self, theta, cosmomc_approx, theta_H0_range, est_H0, iteration_threshold)\u001b[0m\n\u001b[1;32m    406\u001b[0m                                       iteration_threshold=iteration_threshold)\n\u001b[1;32m    407\u001b[0m         \u001b[0;32mexcept\u001b[0m \u001b[0mValueError\u001b[0m\u001b[0;34m:\u001b[0m\u001b[0;34m\u001b[0m\u001b[0;34m\u001b[0m\u001b[0m\n\u001b[0;32m--> 408\u001b[0;31m             \u001b[0;32mraise\u001b[0m \u001b[0mCAMBParamRangeError\u001b[0m\u001b[0;34m(\u001b[0m\u001b[0;34m'No solution for H0 inside of theta_H0_range'\u001b[0m\u001b[0;34m)\u001b[0m\u001b[0;34m\u001b[0m\u001b[0;34m\u001b[0m\u001b[0m\n\u001b[0m\u001b[1;32m    409\u001b[0m \u001b[0;34m\u001b[0m\u001b[0m\n\u001b[1;32m    410\u001b[0m     def set_cosmology(self, H0: Optional[float] = None, ombh2=0.022, omch2=0.12, omk=0.0,\n",
      "\u001b[0;31mCAMBParamRangeError\u001b[0m: No solution for H0 inside of theta_H0_range"
     ]
    }
   ],
   "source": [
    "cosmo1 = camb.set_params(# Background\n",
    "                        cosmomc_theta = last_cosmomc_theta, ombh2=last_omegabh2, omch2=last_omegach2,\n",
    "                        # Dark Energy Model\n",
    "                        dark_energy_model = 'MultiFluidDE',\n",
    "                        num_of_components = 2, models = [2,1,0,0],\n",
    "                        w0 = last_w0, wa = last_wa, zc = last_zc, fde_zc = last_fde_zc, wn = 1/2, theta_i = last_theta_i,\n",
    "                        # Initial Power Spectrum\n",
    "                        As = last_As, ns = last_ns, AccuracyBoost=1.05, tau = last_tau,\n",
    "                        YHe = 0.246, WantTransfer=False, max_l = 10000)\n",
    "results = camb.get_results(cosmo1)"
   ]
  },
  {
   "cell_type": "markdown",
   "id": "4cdb183b-0bc5-4be1-8f8b-8d90d6121162",
   "metadata": {},
   "source": [
    "Again! Noticed: it may not match the actual rank. Let's try a third chain to confirm."
   ]
  },
  {
   "cell_type": "code",
   "execution_count": 162,
   "id": "eb346e9b-11e4-43c2-9053-008c9a33d575",
   "metadata": {},
   "outputs": [],
   "source": [
    "last_recorded_values = [float(x) for x in \"2       576.73602      0.05245037       3.4026571       1.0343846      -2.1245983      -2.3215298      0.99740814       3.0269766      0.98238622       1.0415177     0.021888846      0.12324195     0.045352057       1.0019695       0.9982889      0.99817474       36.628237      0.47571244       2.5173962       1.8378346       7.3002389       14.981501         30.46687       106.67215       344.13157       136.54347       37.223424       312.15222        2527.302   2.0634751e-09       73.370657      0.72913764      0.27079524      0.14577593        0.040661      0.22893582      0.81911479      0.95627668      0.42625087       0.5908878       2.0634751       1.8845469       13.310152       144.40473      0.24518768    0.0011984173    0.0006451384       671.70662       37.061373        34.310025         2.7513489       1079.3493                 396.27718                 20.829944                       254.59949                        276.1213                 131.52138\".split()]\n",
    "last_recorded_point = {}\n",
    "for key, value in zip(quantities, last_recorded_values):\n",
    "    last_recorded_point[key] = value"
   ]
  },
  {
   "cell_type": "code",
   "execution_count": 165,
   "id": "3c2a5dda-0269-430d-9035-8c1594740103",
   "metadata": {},
   "outputs": [
    {
     "name": "stdout",
     "output_type": "stream",
     "text": [
      "Last recorded point:\n",
      "log10zc: 3.4026571\n",
      "fde_zc: 0.05245037\n",
      "theta_i: 1.0343846\n",
      "w0: -2.1245983\n",
      "w0_plus_wa: -2.3215298\n",
      "theta_MC_100: 1.0415177\n",
      "omegabh2: 0.021888846\n",
      "omegach2: 0.12324195\n",
      "logA: 3.0269766\n",
      "ns: 0.98238622\n",
      "tau: 0.045352057\n"
     ]
    }
   ],
   "source": [
    "print('Last recorded point:')\n",
    "for key in ['log10zc', 'fde_zc', 'theta_i', 'w0', 'w0_plus_wa', 'theta_MC_100', 'omegabh2', 'omegach2', 'logA', 'ns', 'tau']:\n",
    "    print(key+':', last_recorded_point[key])"
   ]
  },
  {
   "cell_type": "code",
   "execution_count": 163,
   "id": "013910de-9ebf-4b80-8ad2-dabf4d485d04",
   "metadata": {},
   "outputs": [],
   "source": [
    "last_zc = 10**last_recorded_point['log10zc']\n",
    "last_theta_i = last_recorded_point['theta_i']\n",
    "last_fde_zc = last_recorded_point['fde_zc']\n",
    "last_ns = last_recorded_point['ns']\n",
    "last_w0 = last_recorded_point['w0']\n",
    "last_wa = last_recorded_point['w0_plus_wa'] - last_w0\n",
    "last_As = 1e-10*np.exp(last_recorded_point['logA'])\n",
    "last_cosmomc_theta = 1e-2*last_recorded_point['theta_MC_100']\n",
    "last_omegach2 = last_recorded_point['omegach2']\n",
    "last_omegabh2 = last_recorded_point['omegabh2']\n",
    "last_tau = last_recorded_point['tau']"
   ]
  },
  {
   "cell_type": "code",
   "execution_count": 164,
   "id": "cb970e9a-9e7a-4a89-959f-91a73446bc88",
   "metadata": {},
   "outputs": [
    {
     "ename": "CAMBParamRangeError",
     "evalue": "No solution for H0 inside of theta_H0_range",
     "output_type": "error",
     "traceback": [
      "\u001b[0;31m---------------------------------------------------------------------------\u001b[0m",
      "\u001b[0;31mValueError\u001b[0m                                Traceback (most recent call last)",
      "\u001b[0;32m~/cosmo/CAMB/CAMBMultiFluidDE/camb/model.py\u001b[0m in \u001b[0;36mset_H0_for_theta\u001b[0;34m(self, theta, cosmomc_approx, theta_H0_range, est_H0, iteration_threshold)\u001b[0m\n\u001b[1;32m    401\u001b[0m             \u001b[0;31m# noinspection PyTypeChecker\u001b[0m\u001b[0;34m\u001b[0m\u001b[0;34m\u001b[0m\u001b[0;34m\u001b[0m\u001b[0m\n\u001b[0;32m--> 402\u001b[0;31m             \u001b[0mself\u001b[0m\u001b[0;34m.\u001b[0m\u001b[0mH0\u001b[0m\u001b[0;34m:\u001b[0m \u001b[0mfloat\u001b[0m \u001b[0;34m=\u001b[0m \u001b[0mbrentq\u001b[0m\u001b[0;34m(\u001b[0m\u001b[0mf\u001b[0m\u001b[0;34m,\u001b[0m \u001b[0mtheta_H0_range\u001b[0m\u001b[0;34m[\u001b[0m\u001b[0;36m0\u001b[0m\u001b[0;34m]\u001b[0m\u001b[0;34m,\u001b[0m \u001b[0mtheta_H0_range\u001b[0m\u001b[0;34m[\u001b[0m\u001b[0;36m1\u001b[0m\u001b[0;34m]\u001b[0m\u001b[0;34m,\u001b[0m \u001b[0mrtol\u001b[0m\u001b[0;34m=\u001b[0m\u001b[0;36m5e-5\u001b[0m\u001b[0;34m)\u001b[0m\u001b[0;34m\u001b[0m\u001b[0;34m\u001b[0m\u001b[0m\n\u001b[0m\u001b[1;32m    403\u001b[0m             \u001b[0;32mif\u001b[0m \u001b[0;32mnot\u001b[0m \u001b[0mcosmomc_approx\u001b[0m \u001b[0;32mand\u001b[0m \u001b[0mabs\u001b[0m\u001b[0;34m(\u001b[0m\u001b[0mself\u001b[0m\u001b[0;34m.\u001b[0m\u001b[0mH0\u001b[0m \u001b[0;34m-\u001b[0m \u001b[0mest_H0\u001b[0m\u001b[0;34m)\u001b[0m \u001b[0;34m>\u001b[0m \u001b[0miteration_threshold\u001b[0m\u001b[0;34m:\u001b[0m\u001b[0;34m\u001b[0m\u001b[0;34m\u001b[0m\u001b[0m\n",
      "\u001b[0;32m~/anaconda3/lib/python3.8/site-packages/scipy/optimize/zeros.py\u001b[0m in \u001b[0;36mbrentq\u001b[0;34m(f, a, b, args, xtol, rtol, maxiter, full_output, disp)\u001b[0m\n\u001b[1;32m    775\u001b[0m         \u001b[0;32mraise\u001b[0m \u001b[0mValueError\u001b[0m\u001b[0;34m(\u001b[0m\u001b[0;34m\"rtol too small (%g < %g)\"\u001b[0m \u001b[0;34m%\u001b[0m \u001b[0;34m(\u001b[0m\u001b[0mrtol\u001b[0m\u001b[0;34m,\u001b[0m \u001b[0m_rtol\u001b[0m\u001b[0;34m)\u001b[0m\u001b[0;34m)\u001b[0m\u001b[0;34m\u001b[0m\u001b[0;34m\u001b[0m\u001b[0m\n\u001b[0;32m--> 776\u001b[0;31m     \u001b[0mr\u001b[0m \u001b[0;34m=\u001b[0m \u001b[0m_zeros\u001b[0m\u001b[0;34m.\u001b[0m\u001b[0m_brentq\u001b[0m\u001b[0;34m(\u001b[0m\u001b[0mf\u001b[0m\u001b[0;34m,\u001b[0m \u001b[0ma\u001b[0m\u001b[0;34m,\u001b[0m \u001b[0mb\u001b[0m\u001b[0;34m,\u001b[0m \u001b[0mxtol\u001b[0m\u001b[0;34m,\u001b[0m \u001b[0mrtol\u001b[0m\u001b[0;34m,\u001b[0m \u001b[0mmaxiter\u001b[0m\u001b[0;34m,\u001b[0m \u001b[0margs\u001b[0m\u001b[0;34m,\u001b[0m \u001b[0mfull_output\u001b[0m\u001b[0;34m,\u001b[0m \u001b[0mdisp\u001b[0m\u001b[0;34m)\u001b[0m\u001b[0;34m\u001b[0m\u001b[0;34m\u001b[0m\u001b[0m\n\u001b[0m\u001b[1;32m    777\u001b[0m     \u001b[0;32mreturn\u001b[0m \u001b[0mresults_c\u001b[0m\u001b[0;34m(\u001b[0m\u001b[0mfull_output\u001b[0m\u001b[0;34m,\u001b[0m \u001b[0mr\u001b[0m\u001b[0;34m)\u001b[0m\u001b[0;34m\u001b[0m\u001b[0;34m\u001b[0m\u001b[0m\n",
      "\u001b[0;31mValueError\u001b[0m: f(a) and f(b) must have different signs",
      "\nDuring handling of the above exception, another exception occurred:\n",
      "\u001b[0;31mCAMBParamRangeError\u001b[0m                       Traceback (most recent call last)",
      "\u001b[0;32m/tmp/ipykernel_6895/2708305587.py\u001b[0m in \u001b[0;36m<cell line: 1>\u001b[0;34m()\u001b[0m\n\u001b[0;32m----> 1\u001b[0;31m cosmo1 = camb.set_params(# Background\n\u001b[0m\u001b[1;32m      2\u001b[0m                         \u001b[0mcosmomc_theta\u001b[0m \u001b[0;34m=\u001b[0m \u001b[0mlast_cosmomc_theta\u001b[0m\u001b[0;34m,\u001b[0m \u001b[0mombh2\u001b[0m\u001b[0;34m=\u001b[0m\u001b[0mlast_omegabh2\u001b[0m\u001b[0;34m,\u001b[0m \u001b[0momch2\u001b[0m\u001b[0;34m=\u001b[0m\u001b[0mlast_omegach2\u001b[0m\u001b[0;34m,\u001b[0m\u001b[0;34m\u001b[0m\u001b[0;34m\u001b[0m\u001b[0m\n\u001b[1;32m      3\u001b[0m                         \u001b[0;31m# Dark Energy Model\u001b[0m\u001b[0;34m\u001b[0m\u001b[0;34m\u001b[0m\u001b[0;34m\u001b[0m\u001b[0m\n\u001b[1;32m      4\u001b[0m                         \u001b[0mdark_energy_model\u001b[0m \u001b[0;34m=\u001b[0m \u001b[0;34m'MultiFluidDE'\u001b[0m\u001b[0;34m,\u001b[0m\u001b[0;34m\u001b[0m\u001b[0;34m\u001b[0m\u001b[0m\n\u001b[1;32m      5\u001b[0m                         \u001b[0mnum_of_components\u001b[0m \u001b[0;34m=\u001b[0m \u001b[0;36m2\u001b[0m\u001b[0;34m,\u001b[0m \u001b[0mmodels\u001b[0m \u001b[0;34m=\u001b[0m \u001b[0;34m[\u001b[0m\u001b[0;36m2\u001b[0m\u001b[0;34m,\u001b[0m\u001b[0;36m1\u001b[0m\u001b[0;34m,\u001b[0m\u001b[0;36m0\u001b[0m\u001b[0;34m,\u001b[0m\u001b[0;36m0\u001b[0m\u001b[0;34m]\u001b[0m\u001b[0;34m,\u001b[0m\u001b[0;34m\u001b[0m\u001b[0;34m\u001b[0m\u001b[0m\n",
      "\u001b[0;32m~/cosmo/CAMB/CAMBMultiFluidDE/camb/camb.py\u001b[0m in \u001b[0;36mset_params\u001b[0;34m(cp, verbose, **params)\u001b[0m\n\u001b[1;32m    155\u001b[0m     \u001b[0mdo_set\u001b[0m\u001b[0;34m(\u001b[0m\u001b[0mcp\u001b[0m\u001b[0;34m.\u001b[0m\u001b[0mset_classes\u001b[0m\u001b[0;34m)\u001b[0m\u001b[0;34m\u001b[0m\u001b[0;34m\u001b[0m\u001b[0m\n\u001b[1;32m    156\u001b[0m     \u001b[0mdo_set\u001b[0m\u001b[0;34m(\u001b[0m\u001b[0mcp\u001b[0m\u001b[0;34m.\u001b[0m\u001b[0mDarkEnergy\u001b[0m\u001b[0;34m.\u001b[0m\u001b[0mset_params\u001b[0m\u001b[0;34m)\u001b[0m\u001b[0;34m\u001b[0m\u001b[0;34m\u001b[0m\u001b[0m\n\u001b[0;32m--> 157\u001b[0;31m     \u001b[0mdo_set\u001b[0m\u001b[0;34m(\u001b[0m\u001b[0mcp\u001b[0m\u001b[0;34m.\u001b[0m\u001b[0mset_cosmology\u001b[0m\u001b[0;34m)\u001b[0m\u001b[0;34m\u001b[0m\u001b[0;34m\u001b[0m\u001b[0m\n\u001b[0m\u001b[1;32m    158\u001b[0m     \u001b[0mdo_set\u001b[0m\u001b[0;34m(\u001b[0m\u001b[0mcp\u001b[0m\u001b[0;34m.\u001b[0m\u001b[0mset_matter_power\u001b[0m\u001b[0;34m)\u001b[0m\u001b[0;34m\u001b[0m\u001b[0;34m\u001b[0m\u001b[0m\n\u001b[1;32m    159\u001b[0m     \u001b[0mdo_set\u001b[0m\u001b[0;34m(\u001b[0m\u001b[0mcp\u001b[0m\u001b[0;34m.\u001b[0m\u001b[0mset_for_lmax\u001b[0m\u001b[0;34m)\u001b[0m\u001b[0;34m\u001b[0m\u001b[0;34m\u001b[0m\u001b[0m\n",
      "\u001b[0;32m~/cosmo/CAMB/CAMBMultiFluidDE/camb/camb.py\u001b[0m in \u001b[0;36mdo_set\u001b[0;34m(setter)\u001b[0m\n\u001b[1;32m    148\u001b[0m             \u001b[0;32mif\u001b[0m \u001b[0mverbose\u001b[0m\u001b[0;34m:\u001b[0m\u001b[0;34m\u001b[0m\u001b[0;34m\u001b[0m\u001b[0m\n\u001b[1;32m    149\u001b[0m                 \u001b[0mlogging\u001b[0m\u001b[0;34m.\u001b[0m\u001b[0mwarning\u001b[0m\u001b[0;34m(\u001b[0m\u001b[0;34m'Calling %s(**%s)'\u001b[0m \u001b[0;34m%\u001b[0m \u001b[0;34m(\u001b[0m\u001b[0msetter\u001b[0m\u001b[0;34m.\u001b[0m\u001b[0m__name__\u001b[0m\u001b[0;34m,\u001b[0m \u001b[0mkwargs\u001b[0m\u001b[0;34m)\u001b[0m\u001b[0;34m)\u001b[0m\u001b[0;34m\u001b[0m\u001b[0;34m\u001b[0m\u001b[0m\n\u001b[0;32m--> 150\u001b[0;31m             \u001b[0msetter\u001b[0m\u001b[0;34m(\u001b[0m\u001b[0;34m**\u001b[0m\u001b[0mkwargs\u001b[0m\u001b[0;34m)\u001b[0m\u001b[0;34m\u001b[0m\u001b[0;34m\u001b[0m\u001b[0m\n\u001b[0m\u001b[1;32m    151\u001b[0m \u001b[0;34m\u001b[0m\u001b[0m\n\u001b[1;32m    152\u001b[0m     \u001b[0;31m# Note order is important: must call DarkEnergy.set_params before set_cosmology if setting theta rather than H0\u001b[0m\u001b[0;34m\u001b[0m\u001b[0;34m\u001b[0m\u001b[0;34m\u001b[0m\u001b[0m\n",
      "\u001b[0;32m~/cosmo/CAMB/CAMBMultiFluidDE/camb/model.py\u001b[0m in \u001b[0;36mset_cosmology\u001b[0;34m(self, H0, ombh2, omch2, omk, cosmomc_theta, thetastar, neutrino_hierarchy, num_massive_neutrinos, mnu, nnu, YHe, meffsterile, standard_neutrino_neff, TCMB, tau, zrei, deltazrei, Alens, bbn_predictor, theta_H0_range)\u001b[0m\n\u001b[1;32m    510\u001b[0m                 \u001b[0;32mraise\u001b[0m \u001b[0mCAMBError\u001b[0m\u001b[0;34m(\u001b[0m\u001b[0;34m'Cannot set both cosmomc_theta and thetastar'\u001b[0m\u001b[0;34m)\u001b[0m\u001b[0;34m\u001b[0m\u001b[0;34m\u001b[0m\u001b[0m\n\u001b[1;32m    511\u001b[0m \u001b[0;34m\u001b[0m\u001b[0m\n\u001b[0;32m--> 512\u001b[0;31m             self.set_H0_for_theta(cosmomc_theta or thetastar, cosmomc_approx=cosmomc_theta is not None,\n\u001b[0m\u001b[1;32m    513\u001b[0m                                   theta_H0_range=theta_H0_range)\n\u001b[1;32m    514\u001b[0m         \u001b[0;32melse\u001b[0m\u001b[0;34m:\u001b[0m\u001b[0;34m\u001b[0m\u001b[0;34m\u001b[0m\u001b[0m\n",
      "\u001b[0;32m~/cosmo/CAMB/CAMBMultiFluidDE/camb/model.py\u001b[0m in \u001b[0;36mset_H0_for_theta\u001b[0;34m(self, theta, cosmomc_approx, theta_H0_range, est_H0, iteration_threshold)\u001b[0m\n\u001b[1;32m    406\u001b[0m                                       iteration_threshold=iteration_threshold)\n\u001b[1;32m    407\u001b[0m         \u001b[0;32mexcept\u001b[0m \u001b[0mValueError\u001b[0m\u001b[0;34m:\u001b[0m\u001b[0;34m\u001b[0m\u001b[0;34m\u001b[0m\u001b[0m\n\u001b[0;32m--> 408\u001b[0;31m             \u001b[0;32mraise\u001b[0m \u001b[0mCAMBParamRangeError\u001b[0m\u001b[0;34m(\u001b[0m\u001b[0;34m'No solution for H0 inside of theta_H0_range'\u001b[0m\u001b[0;34m)\u001b[0m\u001b[0;34m\u001b[0m\u001b[0;34m\u001b[0m\u001b[0m\n\u001b[0m\u001b[1;32m    409\u001b[0m \u001b[0;34m\u001b[0m\u001b[0m\n\u001b[1;32m    410\u001b[0m     def set_cosmology(self, H0: Optional[float] = None, ombh2=0.022, omch2=0.12, omk=0.0,\n",
      "\u001b[0;31mCAMBParamRangeError\u001b[0m: No solution for H0 inside of theta_H0_range"
     ]
    }
   ],
   "source": [
    "cosmo1 = camb.set_params(# Background\n",
    "                        cosmomc_theta = last_cosmomc_theta, ombh2=last_omegabh2, omch2=last_omegach2,\n",
    "                        # Dark Energy Model\n",
    "                        dark_energy_model = 'MultiFluidDE',\n",
    "                        num_of_components = 2, models = [2,1,0,0],\n",
    "                        w0 = last_w0, wa = last_wa, zc = last_zc, fde_zc = last_fde_zc, wn = 1/2, theta_i = last_theta_i,\n",
    "                        # Initial Power Spectrum\n",
    "                        As = last_As, ns = last_ns, AccuracyBoost=1.05, tau = last_tau,\n",
    "                        YHe = 0.246, WantTransfer=False, max_l = 10000)\n",
    "results = camb.get_results(cosmo1)"
   ]
  },
  {
   "cell_type": "markdown",
   "id": "5d732599-5885-402e-9da7-6a4020726e58",
   "metadata": {},
   "source": [
    "## Round 2\n",
    "One chain has crashed for unknown reason. No output was clear. Let's investigate the last points again"
   ]
  },
  {
   "cell_type": "code",
   "execution_count": 3,
   "id": "b78bd048-6d2b-46a2-b77e-566ec86ee7d5",
   "metadata": {},
   "outputs": [],
   "source": [
    "quantities = \"weight minuslogpost fde_zc log10zc theta_i w0 w0_plus_wa yp2 logA ns theta_MC_100 omegabh2 omegach2 tau A_planck calib_100T calib_217T A_cib_217 xi_sz_cib A_sz ksz_norm gal545_A_100 gal545_A_143 gal545_A_143_217 gal545_A_217 ps_A_100_100 ps_A_143_143 ps_A_143_217 ps_A_217_217 zc As H0 omegal omegam omegamh2 omegab omegac sigma8 s8h5 s8omegamp5 s8omegamp25 A clamp age rdrag yheused omegan omegan2 chi2__CMB minuslogprior minuslogprior__0 minuslogprior__SZ chi2 chi2__planck_2018_lowl.EE chi2__planck_2018_lowl.TT\".split()\n",
    "last_recorded_values = [float(x) for x in \"4       504.95257      0.14784456       3.5192851       1.3319669    -0.073256315      -4.8842904       1.0020333       3.0749053      0.99739003       1.0409079     0.021947889      0.14648479     0.055310195      0.99911427      0.99980689      0.99884931       56.266857      0.43206802       8.9003983       2.6650226       9.3954919       13.137496        18.003776       84.994568       182.33274       56.438229       133.63432       304.05425       3305.8651   2.1647833e-09        80.66252      0.74008229      0.25986218      0.16907782     0.033732551      0.22513809      0.91165975       1.0150721      0.46473387      0.65090642       2.1647833        1.938084       12.207522       134.24789      0.24521809   0.00099153791    0.0006451384       674.53483       34.228523        29.164095         5.0644284        941.4481                 396.32637                  20.82913                       257.37933                       266.91328\".split()]\n",
    "last_recorded_point = {}\n",
    "for key, value in zip(quantities, last_recorded_values):\n",
    "    last_recorded_point[key] = value"
   ]
  },
  {
   "cell_type": "code",
   "execution_count": 4,
   "id": "8fe16024-41ac-4d51-8bec-377c8605a516",
   "metadata": {},
   "outputs": [
    {
     "name": "stdout",
     "output_type": "stream",
     "text": [
      "Last recorded point:\n",
      "log10zc: 3.5192851\n",
      "fde_zc: 0.14784456\n",
      "theta_i: 1.3319669\n",
      "w0: -0.073256315\n",
      "w0_plus_wa: -4.8842904\n",
      "theta_MC_100: 1.0409079\n",
      "omegabh2: 0.021947889\n",
      "omegach2: 0.14648479\n",
      "logA: 3.0749053\n",
      "ns: 0.99739003\n",
      "tau: 0.055310195\n"
     ]
    }
   ],
   "source": [
    "print('Last recorded point:')\n",
    "for key in ['log10zc', 'fde_zc', 'theta_i', 'w0', 'w0_plus_wa', 'theta_MC_100', 'omegabh2', 'omegach2', 'logA', 'ns', 'tau']:\n",
    "    print(key+':', last_recorded_point[key])"
   ]
  },
  {
   "cell_type": "code",
   "execution_count": 5,
   "id": "b68589c6-ee2a-44b9-8fc7-adabaaf7f769",
   "metadata": {},
   "outputs": [
    {
     "name": "stdout",
     "output_type": "stream",
     "text": [
      "80.66252\n"
     ]
    }
   ],
   "source": [
    "print(last_recorded_point['H0'])"
   ]
  },
  {
   "cell_type": "code",
   "execution_count": 6,
   "id": "6a41e800-056a-4737-aec7-544714044972",
   "metadata": {},
   "outputs": [],
   "source": [
    "last_zc = 10**last_recorded_point['log10zc']\n",
    "last_theta_i = last_recorded_point['theta_i']\n",
    "last_fde_zc = last_recorded_point['fde_zc']\n",
    "last_ns = last_recorded_point['ns']\n",
    "last_w0 = last_recorded_point['w0']\n",
    "last_wa = last_recorded_point['w0_plus_wa'] - last_w0\n",
    "last_As = 1e-10*np.exp(last_recorded_point['logA'])\n",
    "last_cosmomc_theta = 1e-2*last_recorded_point['theta_MC_100']\n",
    "last_omegach2 = last_recorded_point['omegach2']\n",
    "last_omegabh2 = last_recorded_point['omegabh2']\n",
    "last_tau = last_recorded_point['tau']"
   ]
  },
  {
   "cell_type": "code",
   "execution_count": 85,
   "id": "95c1f043-2e05-49e9-8737-5761186ea741",
   "metadata": {},
   "outputs": [],
   "source": [
    "cosmo1 = camb.set_params(# Background\n",
    "                        cosmomc_theta = last_cosmomc_theta, ombh2=last_omegabh2, omch2=last_omegach2,\n",
    "                        # Dark Energy Model\n",
    "                        dark_energy_model = 'MultiFluidDE',\n",
    "                        num_of_components = 2, models = [2,1,0,0],\n",
    "                        w0 = last_w0, wa = last_wa, zc = last_zc, fde_zc = last_fde_zc, wn = 1/2, theta_i = last_theta_i,\n",
    "                        # Initial Power Spectrum\n",
    "                        As = last_As, ns = last_ns, AccuracyBoost=1.05, tau = last_tau,\n",
    "                        WantTransfer=False, max_l = 10000)\n",
    "results = camb.get_results(cosmo1)"
   ]
  },
  {
   "cell_type": "code",
   "execution_count": 86,
   "id": "d37522e0-2d9b-49a6-818e-3d19e76c4b7d",
   "metadata": {},
   "outputs": [
    {
     "name": "stdout",
     "output_type": "stream",
     "text": [
      "90.5270801999339\n"
     ]
    }
   ],
   "source": [
    "print(results.Params.H0)"
   ]
  },
  {
   "cell_type": "code",
   "execution_count": 43,
   "id": "fdc95e21-01dc-4db8-ab03-bfaff0a4a08b",
   "metadata": {},
   "outputs": [],
   "source": [
    "cosmo1 = camb.set_params(# Background\n",
    "                        H0 = 80.6625, ombh2=last_omegabh2, omch2=last_omegach2,\n",
    "                        # Dark Energy Model\n",
    "                        dark_energy_model = 'MultiFluidDE',\n",
    "                        num_of_components = 2, models = [2,1,0,0],\n",
    "                        w0 = last_w0, wa = last_wa, zc = last_zc, fde_zc = last_fde_zc, wn = 1/2, theta_i = last_theta_i,\n",
    "                        # Initial Power Spectrum\n",
    "                        As = last_As, ns = last_ns, AccuracyBoost=1.05, tau = last_tau,\n",
    "                        WantTransfer=False, max_l = 10000)\n",
    "results = camb.get_results(cosmo1)"
   ]
  },
  {
   "cell_type": "code",
   "execution_count": 44,
   "id": "9b7b8352-c107-442d-a4bd-8b2b94d297e1",
   "metadata": {},
   "outputs": [
    {
     "name": "stdout",
     "output_type": "stream",
     "text": [
      "{'age': 12.20752309421101, 'zstar': 1093.948873520802, 'rstar': 131.6867621751439, 'thetastar': 1.0403602717939748, 'DAstar': 12.657803815217402, 'zdrag': 1061.7459817420913, 'rdrag': 134.2478995716447, 'kd': 0.15290317447725238, 'thetad': 0.16232111245407022, 'zeq': 4025.206052125477, 'keq': 0.01302384204648126, 'thetaeq': 0.7431046607241192, 'thetarseq': 0.4136732141166442}\n"
     ]
    }
   ],
   "source": [
    "print(results.get_derived_params())"
   ]
  },
  {
   "cell_type": "markdown",
   "id": "8001483d-8316-44a9-b1a6-2cf1d72c59f2",
   "metadata": {},
   "source": [
    "## Part 3: The binW model"
   ]
  },
  {
   "cell_type": "code",
   "execution_count": 25,
   "id": "ac2edb5e-0b82-4e67-8177-858cf2ecf399",
   "metadata": {},
   "outputs": [],
   "source": [
    "cosmo1 = camb.set_params(# Background\n",
    "                        cosmomc_theta = 1.0423117/100, ombh2=0.022325349, omch2=0.11873374,\n",
    "                        # Dark Energy Model\n",
    "                        dark_energy_model = 'MultiFluidDE',\n",
    "                        num_of_components = 1, models = [3,1,0,0],\n",
    "                        w0 = -1.05, w1 = -2.5, w2 = -2.2, w3 = -1,\n",
    "                        # Initial Power Spectrum\n",
    "                        As = 2.0573112e-09, ns = 0.98087332, AccuracyBoost=1.05, tau = 0.031300839,\n",
    "                        WantTransfer=False, max_l = 10000)\n",
    "results = camb.get_results(cosmo1)"
   ]
  }
 ],
 "metadata": {
  "kernelspec": {
   "display_name": "Python 3 (ipykernel)",
   "language": "python",
   "name": "python3"
  },
  "language_info": {
   "codemirror_mode": {
    "name": "ipython",
    "version": 3
   },
   "file_extension": ".py",
   "mimetype": "text/x-python",
   "name": "python",
   "nbconvert_exporter": "python",
   "pygments_lexer": "ipython3",
   "version": "3.8.12"
  }
 },
 "nbformat": 4,
 "nbformat_minor": 5
}
